{
 "cells": [
  {
   "cell_type": "markdown",
   "id": "bba832cd",
   "metadata": {},
   "source": [
    "# practice Numpy - Jaoyad"
   ]
  },
  {
   "cell_type": "markdown",
   "id": "b8184faf-56e6-4cb5-84bc-9a23cce153fe",
   "metadata": {},
   "source": [
    "**Valid Sudoku**"
   ]
  },
  {
   "cell_type": "code",
   "execution_count": 10,
   "id": "ea97c7f7",
   "metadata": {},
   "outputs": [
    {
     "name": "stdout",
     "output_type": "stream",
     "text": [
      "Requirement already satisfied: numpy in f:\\python project\\practice\\notebooks\\practices\\jaoyad_ds\\lib\\site-packages (2.3.1)\n",
      "Note: you may need to restart the kernel to use updated packages.\n"
     ]
    },
    {
     "name": "stderr",
     "output_type": "stream",
     "text": [
      "\n",
      "[notice] A new release of pip is available: 24.2 -> 25.1.1\n",
      "[notice] To update, run: python.exe -m pip install --upgrade pip\n"
     ]
    }
   ],
   "source": [
    "%pip install numpy\n",
    "import numpy as np"
   ]
  },
  {
   "cell_type": "code",
   "execution_count": 3,
   "id": "01aca062-5ef2-423a-94d1-24cb73fc0551",
   "metadata": {},
   "outputs": [],
   "source": [
    "s = np.array([\n",
    "    [5, 3, 4, 6, 7, 8, 9, 1, 2],\n",
    "    [6, 7, 2, 1, 9, 5, 3, 4, 8],\n",
    "    [1, 9, 8, 3, 4, 2, 5, 6, 7],\n",
    "    \n",
    "    [8, 5, 9, 7, 6, 1, 4, 2, 3],\n",
    "    [4, 2, 6, 8, 5, 3, 7, 9, 1],\n",
    "    [7, 1, 3, 9, 2, 4, 8, 5, 6],\n",
    "    \n",
    "    [9, 6, 1, 5, 3, 7, 2, 8, 4],\n",
    "    [2, 8, 7, 4, 1, 9, 6, 3, 5],\n",
    "    [3, 4, 5, 2, 8, 6, 1, 7, 9]\n",
    "])"
   ]
  },
  {
   "cell_type": "markdown",
   "id": "b80e97ca-7b75-4d54-b17b-1dc633d28d21",
   "metadata": {},
   "source": [
    "**General Questions**"
   ]
  },
  {
   "cell_type": "code",
   "execution_count": 12,
   "id": "1a661d89-c528-4af5-9117-907f23f8dfeb",
   "metadata": {},
   "outputs": [],
   "source": [
    "import numpy as np\n",
    "\n",
    "# Columns: [Age, Math Marks, Science Marks]\n",
    "data = np.array([\n",
    "    [18, 85, 78],   # Student 1\n",
    "    [19, 92, 88],   # Student 2\n",
    "    [17, 76, 95],   # Student 3\n",
    "    [18, 65, 70],   # Student 4\n",
    "    [20, 90, 85]    # Student 5\n",
    "])"
   ]
  },
  {
   "cell_type": "code",
   "execution_count": 13,
   "id": "cc86649d-6eaf-4f29-ae82-626d87ab0412",
   "metadata": {},
   "outputs": [
    {
     "data": {
      "text/plain": [
       "(5, 3)"
      ]
     },
     "execution_count": 13,
     "metadata": {},
     "output_type": "execute_result"
    }
   ],
   "source": [
    "#Get the shape of the matrix.\n",
    "data.shape"
   ]
  },
  {
   "cell_type": "code",
   "execution_count": 14,
   "id": "512ab9df-174c-473a-b85a-edcaf1694bc3",
   "metadata": {},
   "outputs": [
    {
     "data": {
      "text/plain": [
       "np.float64(61.06666666666667)"
      ]
     },
     "execution_count": 14,
     "metadata": {},
     "output_type": "execute_result"
    }
   ],
   "source": [
    "#Find the average age of students.\n",
    "data_mean = np.mean(data)\n",
    "data_mean"
   ]
  },
  {
   "cell_type": "code",
   "execution_count": 15,
   "id": "050a5141-ab0a-4e9d-be98-bb37d1e8bd3f",
   "metadata": {},
   "outputs": [
    {
     "data": {
      "text/plain": [
       "array([85, 92, 76, 65, 90])"
      ]
     },
     "execution_count": 15,
     "metadata": {},
     "output_type": "execute_result"
    }
   ],
   "source": [
    "#Extract Math marks of all students.\n",
    "data_math = data[:,1]\n",
    "data_math"
   ]
  },
  {
   "cell_type": "code",
   "execution_count": 17,
   "id": "05a724aa-b2b6-4c32-b1f6-03b568d87649",
   "metadata": {},
   "outputs": [
    {
     "name": "stdout",
     "output_type": "stream",
     "text": [
      "All science marks [78 88 95 70 85]\n",
      "highest mark 95\n"
     ]
    }
   ],
   "source": [
    "#Find the highest Science mark.\n",
    "data_sci = data[:, 2]\n",
    "print('All science marks', data_sci)\n",
    "\n",
    "\n",
    "sci_max = np.max(data_sci)\n",
    "print('highest mark', sci_max)"
   ]
  },
  {
   "cell_type": "code",
   "execution_count": 19,
   "id": "58dbe813-ad7d-4bd1-af72-81f0f7cd86ff",
   "metadata": {},
   "outputs": [
    {
     "name": "stdout",
     "output_type": "stream",
     "text": [
      "Details who scored more than 90 in math  [[19 92 88]]\n"
     ]
    }
   ],
   "source": [
    "#Get details of the student who scored more than 90 in Math.\n",
    "\n",
    "student = data[data[:,1] > 90]\n",
    "print('Details who scored more than 90 in math ',student)"
   ]
  },
  {
   "cell_type": "code",
   "execution_count": 23,
   "id": "0d8d4e9f-e7aa-4926-a432-4565b3e08f27",
   "metadata": {},
   "outputs": [
    {
     "name": "stdout",
     "output_type": "stream",
     "text": [
      "after added 5 marks in math  [90 97 81 70 95]\n",
      "whole data  [[18 85 78]\n",
      " [19 92 88]\n",
      " [17 76 95]\n",
      " [18 65 70]\n",
      " [20 90 85]]\n"
     ]
    }
   ],
   "source": [
    "#Increase Math marks of all students by 5.\n",
    "extra_mark = 5\n",
    "\n",
    "increased_mark = data[:,1] + 5\n",
    "\n",
    "print('after added 5 marks in math ',increased_mark)\n",
    "print('whole data ',data)"
   ]
  },
  {
   "cell_type": "code",
   "execution_count": 27,
   "id": "6d3945af-91b5-4e81-ad8d-3ec3dca1119d",
   "metadata": {},
   "outputs": [
    {
     "name": "stdout",
     "output_type": "stream",
     "text": [
      "younger than 19 =>  3\n"
     ]
    }
   ],
   "source": [
    "#Find how many students are younger than 19.\n",
    "student_age = data[data[:,0] < 19]\n",
    "\n",
    "print('younger than 19 => ',len(student_age))"
   ]
  },
  {
   "cell_type": "code",
   "execution_count": 29,
   "id": "64134eb8-c6d1-4d0b-a19b-1d124b18cf71",
   "metadata": {},
   "outputs": [
    {
     "name": "stdout",
     "output_type": "stream",
     "text": [
      "total marks in math  408\n",
      "total marks in science  416\n"
     ]
    }
   ],
   "source": [
    "#Calculate the average marks in each subject (column-wise mean).\n",
    "total_math = data[:, 1]\n",
    "total_sci = data[:, 2]\n",
    "\n",
    "print('total marks in math ', total_math.sum())\n",
    "print('total marks in science ', total_sci.sum())"
   ]
  },
  {
   "cell_type": "code",
   "execution_count": 34,
   "id": "0c44133f-6641-4da8-9d52-e28ee75098c4",
   "metadata": {},
   "outputs": [
    {
     "name": "stdout",
     "output_type": "stream",
     "text": [
      "students who scored atleast 80 in both =>  2\n"
     ]
    }
   ],
   "source": [
    "#Get data of students who scored at least 80 in both subjects.\n",
    "the_condition = (data[:,1] >= 80) & (data[:,2] >= 80)\n",
    "\n",
    "ultimate_stu = data[the_condition]\n",
    "\n",
    "print('students who scored atleast 80 in both => ', len(ultimate_stu))"
   ]
  },
  {
   "cell_type": "code",
   "execution_count": 35,
   "id": "7619e559-c244-4ca1-add2-7daca65b365e",
   "metadata": {},
   "outputs": [
    {
     "name": "stdout",
     "output_type": "stream",
     "text": [
      "after replacing these values  [[18 85 78]\n",
      " [19 92 88]\n",
      " [17 76 95]\n",
      " [18 65  0]\n",
      " [20 90 85]]\n"
     ]
    }
   ],
   "source": [
    "#Replace all Science marks < 75 with 0.\n",
    "\n",
    "data[data[:,2] < 75, 2] = 0\n",
    "\n",
    "print('after replacing these values ', data)"
   ]
  },
  {
   "cell_type": "markdown",
   "id": "b76660fa",
   "metadata": {},
   "source": [
    "# The end of practice"
   ]
  }
 ],
 "metadata": {
  "kernelspec": {
   "display_name": "jaoyad_ds",
   "language": "python",
   "name": "python3"
  },
  "language_info": {
   "codemirror_mode": {
    "name": "ipython",
    "version": 3
   },
   "file_extension": ".py",
   "mimetype": "text/x-python",
   "name": "python",
   "nbconvert_exporter": "python",
   "pygments_lexer": "ipython3",
   "version": "3.12.6"
  }
 },
 "nbformat": 4,
 "nbformat_minor": 5
}
